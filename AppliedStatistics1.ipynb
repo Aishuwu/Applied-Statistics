{
  "nbformat": 4,
  "nbformat_minor": 0,
  "metadata": {
    "colab": {
      "provenance": []
    },
    "kernelspec": {
      "name": "python3",
      "display_name": "Python 3"
    },
    "language_info": {
      "name": "python"
    }
  },
  "cells": [
    {
      "cell_type": "markdown",
      "source": [
        "\n",
        "Implement the counting measure in Python. Test that it satisfies additivity on the disjoint sets\n",
        "{\"a\", \"b\", \"c\"}, {\"d\", \"e\", \"f\"}."
      ],
      "metadata": {
        "id": "Wm3jsyE_h8Hc"
      }
    },
    {
      "cell_type": "code",
      "source": [
        "#Implementation of the counting measure that checks if the input type is correct and raises an error otherwise\n",
        "def count_measure(c):\n",
        "  if not isinstance(c, set):\n",
        "    raise ValueError(\"Input must be a set\")\n",
        "  return len(c)\n",
        "\n",
        "#Testing the counting measure for additivity on disjoint sets :-\n",
        "\n",
        "set1 = {\"a\", \"b\", \"c\"}\n",
        "set2 = {\"d\", \"e\", \"f\"}\n",
        "set1_measure = count_measure(set1)\n",
        "set2_measure = count_measure(set2)\n",
        "set_union = set1.union(set2)\n",
        "union_measure = count_measure(set_union)\n",
        "\n",
        "if set1_measure + set2_measure == union_measure:\n",
        "  print(\"count of set1: {} and set2: {} and counting measure satisfies additivity on the disjoint sets which is {}\".format(set1_measure, set2_measure, union_measure))\n",
        "else:\n",
        "  print(\"The counting measure doesn't satisfy additivity on disjoint sets\")\n"
      ],
      "metadata": {
        "colab": {
          "base_uri": "https://localhost:8080/"
        },
        "id": "Cob-iDo1h9nL",
        "outputId": "3a88a685-7793-46d4-858a-30231ec473e7"
      },
      "execution_count": 87,
      "outputs": [
        {
          "output_type": "stream",
          "name": "stdout",
          "text": [
            "count of set1: 3 and set2: 3 and counting measure satisfies additivity on the disjoint sets which is 6\n"
          ]
        }
      ]
    },
    {
      "cell_type": "markdown",
      "source": [
        "Create a Python class which implements intervals. Use this new data type to write a function\n",
        "which implements the length measure on intervals. Test it on the interval [1, 3.5].\n"
      ],
      "metadata": {
        "id": "QVogPpJirBc3"
      }
    },
    {
      "cell_type": "code",
      "source": [
        "#Creating a class which implements intervals\n",
        "class Interval:\n",
        "  def __init__(self, start, end):\n",
        "    if not isinstance(start, (int, float)) or not isinstance(end, (int, float)):\n",
        "      raise ValueError(\"Interval endpoints must be numeric values\")\n",
        "    self.start = start\n",
        "    self.end = end\n",
        "\n",
        "  def length(self):\n",
        "    return (self.end - self.start)\n",
        "#Testing the length measure function on the interval [1, 3.5]\n",
        "def length_measure(interval):\n",
        "  if not isinstance(interval, Interval):\n",
        "    raise ValueError(\"Input must be an instance of the Interval class\")\n",
        "  return interval.length()\n",
        "\n",
        "interval = Interval(1, 3.5)\n",
        "interval_length = length_measure(interval)\n",
        "\n",
        "print(f\"The length of the interval [{interval.start}, {interval.end}] is {interval_length:.4f}\")\n",
        "\n"
      ],
      "metadata": {
        "colab": {
          "base_uri": "https://localhost:8080/"
        },
        "id": "AQ2nGUZ-vBRi",
        "outputId": "3d6e653d-8dfd-4662-ebbd-99a38842759a"
      },
      "execution_count": 88,
      "outputs": [
        {
          "output_type": "stream",
          "name": "stdout",
          "text": [
            "The length of the interval [1, 3.5] is 2.5000\n"
          ]
        }
      ]
    },
    {
      "cell_type": "markdown",
      "source": [
        "Import scipy.stats in order to access the scipy.stats.expon distribution. This implements the exponential distribution Exp(λ). Make sure you read the documentation https://docs.scipy.\n",
        "org/doc/scipy/reference/generated/scipy.stats.expon.html to understand how it works and how\n",
        "the parameter λ is encoded. Using the cdf method of scipy.stats.expon define a function called\n",
        "expon_measure which will take as input an interval (defined in the previous question) and will return\n",
        "its probability mass under the probability measure Exp (2) (i.e. λ = 2). Test your function by computing\n",
        "the probability measure of the following intervals:\n",
        "(a) [0, 1]\n",
        "(b) [1, 1]\n",
        "(c) [1, 10]\n",
        "(d) [0, ∞)\n",
        "Plot the pdf of Exp (2) on comment on whether your answers seem to make sense visually\n"
      ],
      "metadata": {
        "id": "xjQe8hD23mNq"
      }
    },
    {
      "cell_type": "code",
      "source": [
        "import numpy as np\n",
        "import matplotlib.pyplot as plt\n",
        "from scipy.stats import expon\n",
        "\n",
        "#Function to calculate the probability mass under exp(2) for a given interval\n",
        "def expon_measure(start,end):\n",
        "# lambda = 2\n",
        "  l = 2\n",
        "  #Calculating probability mass using the cdf\n",
        "  probability_mass = expon.cdf(end, scale=1/l) - expon.cdf(start, scale=1/l)\n",
        "\n",
        "  return probability_mass\n",
        "\n",
        "#Testing the expon_measure function for various intervals\n",
        "int1 = Interval(0,1)\n",
        "int2 = Interval(1,1)\n",
        "int3 = Interval(1,10)\n",
        "int4 = Interval(0, float('inf'))\n",
        "intervals = [[int1.start,int1.end],[int2.start,int2.end] , [int3.start,int3.end] , [int4.start,int4.end]]\n",
        "for i,j in (intervals):\n",
        "  probability_mass = expon_measure(i,j)\n",
        "  print(f\"Probability mass for interval ({i}, {j}): {probability_mass:.4f}\")\n",
        "\n",
        "\n",
        "#Plot the pdf of exp(2)\n",
        "x= np.linspace(0,10,100)\n",
        "pdf = expon.pdf(x, scale=1/2)\n",
        "\n",
        "#Creating the plot\n",
        "plt.plot(pdf, 'b-' )\n",
        "plt.xlabel(\"x\")\n",
        "plt.ylabel(\"PDF\")\n",
        "plt.title(\"PDF of Exp(2)\")\n",
        "plt.grid(True)\n",
        "\n",
        "plt.show\n",
        "\n",
        "# #Calculation and displaying the probability mass for each interval\n"
      ],
      "metadata": {
        "id": "n_w3ah9r3pqH",
        "colab": {
          "base_uri": "https://localhost:8080/",
          "height": 559
        },
        "outputId": "0eaaa8b8-cc66-4ef8-da4b-941dd4717fef"
      },
      "execution_count": 89,
      "outputs": [
        {
          "output_type": "stream",
          "name": "stdout",
          "text": [
            "Probability mass for interval (0, 1): 0.8647\n",
            "Probability mass for interval (1, 1): 0.0000\n",
            "Probability mass for interval (1, 10): 0.1353\n",
            "Probability mass for interval (0, inf): 1.0000\n"
          ]
        },
        {
          "output_type": "execute_result",
          "data": {
            "text/plain": [
              "<function matplotlib.pyplot.show(close=None, block=None)>"
            ]
          },
          "metadata": {},
          "execution_count": 89
        },
        {
          "output_type": "display_data",
          "data": {
            "text/plain": [
              "<Figure size 640x480 with 1 Axes>"
            ],
            "image/png": "[encoded data removed]"
          },
          "metadata": {}
        }
      ]
    },
    {
      "cell_type": "markdown",
      "source": [
        "Using the pdf method of scipy.stats.expon, define a function called expon_pdf which will\n",
        "take one argument x and return the pdf of the probability measure Exp (2) evaluated at x. Import\n",
        "the integration routine quad from scipy.integrate, and read the documentation https://docs.scipy.\n",
        "org/doc/scipy/reference/generated/scipy.integrate.quad.html to see how it works. Use quad to\n",
        "compute and print the following integrals\n",
        "(a) R 1\n",
        "0\n",
        "expon_pdf(x) dx\n",
        "(b) R 1\n",
        "1\n",
        "expon_pdf(x) dx\n",
        "(c) R 10\n",
        "1\n",
        "expon_pdf(x) dx\n",
        "(d) R ∞\n",
        "0\n",
        "expon_pdf(x) dx\n",
        "Compare your answers with those of the previous question. What do you see? Why is this the case?\n"
      ],
      "metadata": {
        "id": "1KQUXO8DjUPx"
      }
    },
    {
      "cell_type": "code",
      "source": [
        "from scipy.stats import expon\n",
        "from scipy.integrate import quad\n",
        "#Functiion to calculate the pdf of the probability measure exp(2) at x\n",
        "def expon_pdf (x):\n",
        "  return expon.pdf(x, scale = 1/2)\n",
        "\n",
        "x= np.linspace(0,10,100)\n",
        "\n",
        "v= expon_pdf(x)\n",
        "\n",
        "#Testing the expon_measure function for various intervals\n",
        "int1 = Interval(0,1)\n",
        "int2 = Interval(1,1)\n",
        "int3 = Interval(1,10)\n",
        "int4 = Interval(0, float('inf'))\n",
        "intervals = [[int1.start,int1.end],[int2.start,int2.end] , [int3.start,int3.end] , [int4.start,int4.end]]\n",
        "for i,j in (intervals):\n",
        "  quad_measure = quad(expon_pdf,i,j)\n",
        "  print(np.round(quad_measure[0],4))\n",
        "\n"
      ],
      "metadata": {
        "colab": {
          "base_uri": "https://localhost:8080/"
        },
        "id": "JV8JWdj_dG22",
        "outputId": "21f2d22c-3da2-4dd0-cc0e-933e2a1dfac7"
      },
      "execution_count": 90,
      "outputs": [
        {
          "output_type": "stream",
          "name": "stdout",
          "text": [
            "0.8647\n",
            "0.0\n",
            "0.1353\n",
            "1.0\n"
          ]
        }
      ]
    },
    {
      "cell_type": "markdown",
      "source": [
        "Comparing these results with the probability mass calculations from the previous question:-\n",
        "\n",
        "1. The integral from 0 to 1 using the PDF is approximately 0.8647 while the probability mass for the same interval is also 0.8647, this is because the PDF represents the probability density within an interval\n",
        "\n",
        "2. The integral from 1 to 1 is 0.0 because it represents the probability at a point. So the probability mass for this interval is also 0\n",
        "\n",
        "3. The integral from 1 to 10 using the PDF is approximately 0.1353, which is the same as the probability mass for the same interval of 0.1353. This also satisfies the interpretation that the PDF represents the probability density within an interval\n",
        "\n",
        "4. The integral from 0 to infinity using the PDF is 1.0, which means that the total area under the PDF curve is 1. This satisfies the property of probability distributions that the total probability should sum to 1\n",
        "\n",
        "In conclusion, the results obtained using the PDF and the previous probability mass calculations are consistent and align with the properties of probability distributions"
      ],
      "metadata": {
        "id": "zy8rs-ff_8af"
      }
    }
  ]
}